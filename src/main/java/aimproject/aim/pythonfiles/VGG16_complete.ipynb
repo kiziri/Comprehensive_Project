{
 "cells": [
  {
   "cell_type": "code",
   "execution_count": 2,
   "id": "129b314f",
   "metadata": {},
   "outputs": [],
   "source": [
    "import tensorflow as tf\n",
    "\n",
    "import pandas as pd\n",
    "import numpy as np #데이터 배열화\n",
    "import os #경로 설정용 \n",
    "import keras #딥러닝용 패키지\n",
    "import random #데이터 분산할 때 쓸 랜덤\n",
    "import cv2 #이미지 읽기용\n",
    "import math #연산용\n",
    "import seaborn as sns #matplotlib에 다양한 시각화 기능이 추가된 패키지\n",
    "from sklearn.metrics import confusion_matrix #분류의 정확성 평가\n",
    "from sklearn.preprocessing import LabelBinarizer #데이터 전처리용\n",
    "from sklearn.model_selection import train_test_split #데이터 분할용\n",
    "\n",
    "import matplotlib.pyplot as plt #데이터 시각화용\n",
    "\n",
    "from tensorflow.keras.layers import Dense,GlobalAveragePooling2D,Convolution2D,BatchNormalization #사용할 BN, ConV2 등의 계층\n",
    "from tensorflow.keras.layers import Flatten,MaxPooling2D,Dropout #사용할 레이어\n",
    "\n",
    "from tensorflow.keras.applications import VGG16 \n",
    "from tensorflow.keras.applications.densenet import preprocess_input #tensor나 numpy배열 전처리용\n",
    "\n",
    "from tensorflow.keras.preprocessing import image #이미지 데이터를 실시간으로 처리하기 위한 도구\n",
    "from tensorflow.keras.preprocessing.image import ImageDataGenerator,img_to_array #이미지 편집을 위한 제너레이터(Affine Transform)\n",
    "\n",
    "from tensorflow.keras.models import Model #교육 및 추론 기능이 있는 개체로 레이어를 그룹화\n",
    "from keras.models import Sequential\n",
    "\n",
    "from tensorflow.keras.optimizers import Adam #Adam 옵티마이저 사용. loss는 categorical_crossentropy 사용\n",
    "\n",
    "#체크포인트를 두고 저장 + metric이 중지되면 학습률을 감소\n",
    "from tensorflow.keras.callbacks import ModelCheckpoint, ReduceLROnPlateau \n",
    "\n",
    "import warnings #경고 무시\n",
    "warnings.filterwarnings(\"ignore\")"
   ]
  },
  {
   "cell_type": "code",
   "execution_count": 3,
   "id": "76035574",
   "metadata": {},
   "outputs": [],
   "source": [
    "image_size=32"
   ]
  },
  {
   "cell_type": "code",
   "execution_count": 4,
   "id": "65af3d17",
   "metadata": {},
   "outputs": [
    {
     "name": "stdout",
     "output_type": "stream",
     "text": [
      "['neutral', 'fear', 'happy', 'sad', 'angry', 'surprise']\n"
     ]
    }
   ],
   "source": [
    "data=[]\n",
    "labels=[]\n",
    "random.seed(42)\n",
    "imagePaths = sorted(list(os.listdir(\"./input/emotion-project-2/train/\")))\n",
    "random.shuffle(imagePaths)\n",
    "print(imagePaths)\n",
    "\n",
    "for img in imagePaths:\n",
    "    path=sorted(list(os.listdir(\"./input/emotion-project-2/train/\"+img)))\n",
    "    for i in path:\n",
    "        image = cv2.imread(\"./input/emotion-project-2/train/\"+img+'/'+i)\n",
    "        image = cv2.resize(image, (image_size,image_size))\n",
    "        image = img_to_array(image)\n",
    "        data.append(image)\n",
    "        l = label = img\n",
    "        labels.append(l)"
   ]
  },
  {
   "cell_type": "code",
   "execution_count": 5,
   "id": "3aeeea80",
   "metadata": {},
   "outputs": [
    {
     "name": "stdout",
     "output_type": "stream",
     "text": [
      "[0 0 0 1 0 0]\n"
     ]
    }
   ],
   "source": [
    "data = np.array(data, dtype=\"float64\") / 255.0\n",
    "labels = np.array(labels)\n",
    "mlb = LabelBinarizer()\n",
    "labels = mlb.fit_transform(labels)\n",
    "print(labels[0])"
   ]
  },
  {
   "cell_type": "code",
   "execution_count": 6,
   "id": "0ed31dd4",
   "metadata": {},
   "outputs": [
    {
     "name": "stdout",
     "output_type": "stream",
     "text": [
      "(50890, 32, 32, 3) (12723, 32, 32, 3)\n"
     ]
    }
   ],
   "source": [
    "(xtrain,xtest,ytrain,ytest)=train_test_split(data,labels,test_size=0.2,random_state=42)\n",
    "print(xtrain.shape, xtest.shape)"
   ]
  },
  {
   "cell_type": "code",
   "execution_count": 7,
   "id": "ae81a7dc",
   "metadata": {},
   "outputs": [],
   "source": [
    "datagen = ImageDataGenerator(zoom_range = 0.2, horizontal_flip=True, shear_range=0.2) #이미지 가공(학습률 향상을 위한 augmentation)\n",
    "datagen.fit(xtrain)"
   ]
  },
  {
   "cell_type": "code",
   "execution_count": 8,
   "id": "3ee0242f",
   "metadata": {},
   "outputs": [
    {
     "name": "stdout",
     "output_type": "stream",
     "text": [
      "Model: \"model\"\n",
      "_________________________________________________________________\n",
      "Layer (type)                 Output Shape              Param #   \n",
      "=================================================================\n",
      "input_1 (InputLayer)         [(None, 32, 32, 3)]       0         \n",
      "_________________________________________________________________\n",
      "block1_conv1 (Conv2D)        (None, 32, 32, 64)        1792      \n",
      "_________________________________________________________________\n",
      "block1_conv2 (Conv2D)        (None, 32, 32, 64)        36928     \n",
      "_________________________________________________________________\n",
      "block1_pool (MaxPooling2D)   (None, 16, 16, 64)        0         \n",
      "_________________________________________________________________\n",
      "block2_conv1 (Conv2D)        (None, 16, 16, 128)       73856     \n",
      "_________________________________________________________________\n",
      "block2_conv2 (Conv2D)        (None, 16, 16, 128)       147584    \n",
      "_________________________________________________________________\n",
      "block2_pool (MaxPooling2D)   (None, 8, 8, 128)         0         \n",
      "_________________________________________________________________\n",
      "block3_conv1 (Conv2D)        (None, 8, 8, 256)         295168    \n",
      "_________________________________________________________________\n",
      "block3_conv2 (Conv2D)        (None, 8, 8, 256)         590080    \n",
      "_________________________________________________________________\n",
      "block3_conv3 (Conv2D)        (None, 8, 8, 256)         590080    \n",
      "_________________________________________________________________\n",
      "block3_pool (MaxPooling2D)   (None, 4, 4, 256)         0         \n",
      "_________________________________________________________________\n",
      "block4_conv1 (Conv2D)        (None, 4, 4, 512)         1180160   \n",
      "_________________________________________________________________\n",
      "block4_conv2 (Conv2D)        (None, 4, 4, 512)         2359808   \n",
      "_________________________________________________________________\n",
      "block4_conv3 (Conv2D)        (None, 4, 4, 512)         2359808   \n",
      "_________________________________________________________________\n",
      "block4_pool (MaxPooling2D)   (None, 2, 2, 512)         0         \n",
      "_________________________________________________________________\n",
      "block5_conv1 (Conv2D)        (None, 2, 2, 512)         2359808   \n",
      "_________________________________________________________________\n",
      "block5_conv2 (Conv2D)        (None, 2, 2, 512)         2359808   \n",
      "_________________________________________________________________\n",
      "block5_conv3 (Conv2D)        (None, 2, 2, 512)         2359808   \n",
      "_________________________________________________________________\n",
      "block5_pool (MaxPooling2D)   (None, 1, 1, 512)         0         \n",
      "_________________________________________________________________\n",
      "flatten (Flatten)            (None, 512)               0         \n",
      "_________________________________________________________________\n",
      "dense (Dense)                (None, 1024)              525312    \n",
      "_________________________________________________________________\n",
      "dropout (Dropout)            (None, 1024)              0         \n",
      "_________________________________________________________________\n",
      "dense_1 (Dense)              (None, 512)               524800    \n",
      "_________________________________________________________________\n",
      "dropout_1 (Dropout)          (None, 512)               0         \n",
      "_________________________________________________________________\n",
      "dense_2 (Dense)              (None, 6)                 3078      \n",
      "=================================================================\n",
      "Total params: 15,767,878\n",
      "Trainable params: 15,767,878\n",
      "Non-trainable params: 0\n",
      "_________________________________________________________________\n"
     ]
    }
   ],
   "source": [
    "#dense relu문 추가, dropout 0.2로 변경\n",
    "\n",
    "model = VGG16(weights='imagenet', include_top=False, input_shape=(image_size, image_size, 3))\n",
    "x=Flatten()(model.output)\n",
    "x=Dense(1024)(x)\n",
    "x=Dropout(0.2)(x)\n",
    "x=Dense(512,activation='relu')(x)\n",
    "x=Dropout(0.2)(x)\n",
    "output=Dense(6,activation='softmax')(x) # because we have to predict the AUC\n",
    "model=Model(model.input,output)\n",
    "\n",
    "model.compile(\n",
    "    optimizer = Adam(lr=0.0001), \n",
    "    loss='categorical_crossentropy', \n",
    "    metrics=['accuracy']\n",
    "  )\n",
    "\n",
    "model.summary()"
   ]
  },
  {
   "cell_type": "code",
   "execution_count": 9,
   "id": "403a43d1",
   "metadata": {},
   "outputs": [
    {
     "name": "stdout",
     "output_type": "stream",
     "text": [
      "Epoch 1/20\n",
      "1591/1591 [==============================] - 47s 28ms/step - loss: 1.5881 - accuracy: 0.3385 - val_loss: 1.2589 - val_accuracy: 0.5117\n",
      "Epoch 2/20\n",
      "1591/1591 [==============================] - 42s 27ms/step - loss: 1.2153 - accuracy: 0.5270 - val_loss: 1.0868 - val_accuracy: 0.5909\n",
      "Epoch 3/20\n",
      "1591/1591 [==============================] - 42s 27ms/step - loss: 1.0876 - accuracy: 0.5889 - val_loss: 1.0715 - val_accuracy: 0.5986\n",
      "Epoch 4/20\n",
      "1591/1591 [==============================] - 42s 27ms/step - loss: 1.0006 - accuracy: 0.6231 - val_loss: 0.9656 - val_accuracy: 0.6329\n",
      "Epoch 5/20\n",
      "1591/1591 [==============================] - 43s 27ms/step - loss: 0.9220 - accuracy: 0.6550 - val_loss: 0.8997 - val_accuracy: 0.6631\n",
      "Epoch 6/20\n",
      "1591/1591 [==============================] - 43s 27ms/step - loss: 0.8465 - accuracy: 0.6876 - val_loss: 0.8906 - val_accuracy: 0.6740\n",
      "Epoch 7/20\n",
      "1591/1591 [==============================] - 43s 27ms/step - loss: 0.7649 - accuracy: 0.7224 - val_loss: 0.8779 - val_accuracy: 0.6817\n",
      "Epoch 8/20\n",
      "1591/1591 [==============================] - 43s 27ms/step - loss: 0.6936 - accuracy: 0.7464 - val_loss: 0.8087 - val_accuracy: 0.7116\n",
      "Epoch 9/20\n",
      "1591/1591 [==============================] - 46s 29ms/step - loss: 0.6190 - accuracy: 0.7795 - val_loss: 0.7749 - val_accuracy: 0.7230\n",
      "Epoch 10/20\n",
      "1591/1591 [==============================] - 42s 26ms/step - loss: 0.5586 - accuracy: 0.8002 - val_loss: 0.8164 - val_accuracy: 0.7318\n",
      "Epoch 11/20\n",
      "1591/1591 [==============================] - 40s 25ms/step - loss: 0.4994 - accuracy: 0.8246 - val_loss: 0.7030 - val_accuracy: 0.7629\n",
      "Epoch 12/20\n",
      "1591/1591 [==============================] - 43s 27ms/step - loss: 0.4497 - accuracy: 0.8444 - val_loss: 0.7072 - val_accuracy: 0.7716\n",
      "Epoch 13/20\n",
      "1591/1591 [==============================] - 45s 28ms/step - loss: 0.4116 - accuracy: 0.8573 - val_loss: 0.6593 - val_accuracy: 0.7878\n",
      "Epoch 14/20\n",
      "1591/1591 [==============================] - 45s 28ms/step - loss: 0.3657 - accuracy: 0.8737 - val_loss: 0.6640 - val_accuracy: 0.7885\n",
      "Epoch 15/20\n",
      "1591/1591 [==============================] - 40s 25ms/step - loss: 0.3394 - accuracy: 0.8831 - val_loss: 0.6349 - val_accuracy: 0.8070\n",
      "Epoch 16/20\n",
      "1591/1591 [==============================] - 40s 25ms/step - loss: 0.3106 - accuracy: 0.8941 - val_loss: 0.6392 - val_accuracy: 0.8177\n",
      "Epoch 17/20\n",
      "1591/1591 [==============================] - 40s 25ms/step - loss: 0.2883 - accuracy: 0.9035 - val_loss: 0.6265 - val_accuracy: 0.8196\n",
      "Epoch 18/20\n",
      "1591/1591 [==============================] - 40s 25ms/step - loss: 0.2668 - accuracy: 0.9109 - val_loss: 0.6213 - val_accuracy: 0.8190\n",
      "Epoch 19/20\n",
      "1591/1591 [==============================] - 40s 25ms/step - loss: 0.2480 - accuracy: 0.9149 - val_loss: 0.6273 - val_accuracy: 0.8241\n",
      "Epoch 20/20\n",
      "1591/1591 [==============================] - 41s 26ms/step - loss: 0.2277 - accuracy: 0.9217 - val_loss: 0.6203 - val_accuracy: 0.8243\n"
     ]
    }
   ],
   "source": [
    "history = model.fit(datagen.flow(xtrain, ytrain, batch_size=32),\n",
    "               epochs=20,\n",
    "               validation_data=(xtest, ytest))"
   ]
  },
  {
   "cell_type": "code",
   "execution_count": 10,
   "id": "7b97218e",
   "metadata": {},
   "outputs": [
    {
     "name": "stdout",
     "output_type": "stream",
     "text": [
      "398/398 [==============================] - 3s 7ms/step - loss: 0.6203 - accuracy: 0.8243\n"
     ]
    },
    {
     "data": {
      "text/plain": [
       "[0.6202706098556519, 0.824333906173706]"
      ]
     },
     "execution_count": 10,
     "metadata": {},
     "output_type": "execute_result"
    }
   ],
   "source": [
    "model.evaluate(xtest, ytest, batch_size = 32)"
   ]
  },
  {
   "cell_type": "code",
   "execution_count": null,
   "id": "4199cd00",
   "metadata": {},
   "outputs": [
    {
     "name": "stdout",
     "output_type": "stream",
     "text": [
      " 578/1591 [=========>....................] - ETA: 6s - loss: 0.1646 - accuracy: 0.9459"
     ]
    }
   ],
   "source": [
    "model.evaluate(xtrain, ytrain, batch_size = 32)"
   ]
  },
  {
   "cell_type": "code",
   "execution_count": null,
   "id": "a88e9c4d",
   "metadata": {},
   "outputs": [],
   "source": [
    "model.save('0425_adam_f64.h5')"
   ]
  },
  {
   "cell_type": "code",
   "execution_count": null,
   "id": "9cfe4b30",
   "metadata": {},
   "outputs": [],
   "source": []
  }
 ],
 "metadata": {
  "kernelspec": {
   "display_name": "Python 3",
   "language": "python",
   "name": "python3"
  },
  "language_info": {
   "codemirror_mode": {
    "name": "ipython",
    "version": 3
   },
   "file_extension": ".py",
   "mimetype": "text/x-python",
   "name": "python",
   "nbconvert_exporter": "python",
   "pygments_lexer": "ipython3",
   "version": "3.8.8"
  }
 },
 "nbformat": 4,
 "nbformat_minor": 5
}
