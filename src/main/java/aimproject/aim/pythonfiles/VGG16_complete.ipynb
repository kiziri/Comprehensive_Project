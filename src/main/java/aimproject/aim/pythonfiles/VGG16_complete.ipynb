{
 "cells": [
  {
   "cell_type": "code",
   "execution_count": 1,
   "id": "24ddaa00",
   "metadata": {},
   "outputs": [],
   "source": [
    "import tensorflow as tf\n",
    "\n",
    "import pandas as pd\n",
    "import numpy as np #데이터 배열화\n",
    "import os #경로 설정용 \n",
    "import keras #딥러닝용 패키지\n",
    "import random #데이터 분산할 때 쓸 랜덤\n",
    "import cv2 #이미지 읽기용\n",
    "import math #연산용\n",
    "import seaborn as sns #matplotlib에 다양한 시각화 기능이 추가된 패키지\n",
    "from sklearn.metrics import confusion_matrix #분류의 정확성 평가\n",
    "from sklearn.preprocessing import LabelBinarizer #데이터 전처리용\n",
    "from sklearn.model_selection import train_test_split #데이터 분할용\n",
    "\n",
    "import matplotlib.pyplot as plt #데이터 시각화용\n",
    "\n",
    "from tensorflow.keras.layers import Dense,GlobalAveragePooling2D,Convolution2D,BatchNormalization #사용할 BN, ConV2 등의 계층\n",
    "from tensorflow.keras.layers import Flatten,MaxPooling2D,Dropout #사용할 레이어\n",
    "\n",
    "from tensorflow.keras.applications import VGG16 \n",
    "from tensorflow.keras.applications.densenet import preprocess_input #tensor나 numpy배열 전처리용\n",
    "\n",
    "from tensorflow.keras.preprocessing import image #이미지 데이터를 실시간으로 처리하기 위한 도구\n",
    "from tensorflow.keras.preprocessing.image import ImageDataGenerator,img_to_array #이미지 편집을 위한 제너레이터(Affine Transform)\n",
    "\n",
    "from tensorflow.keras.models import Model #교육 및 추론 기능이 있는 개체로 레이어를 그룹화\n",
    "from keras.models import Sequential\n",
    "\n",
    "from tensorflow.keras.optimizers import Adam #Adam 옵티마이저 사용. loss는 categorical_crossentropy 사용\n",
    "\n",
    "#체크포인트를 두고 저장 + metric이 중지되면 학습률을 감소\n",
    "from tensorflow.keras.callbacks import ModelCheckpoint, ReduceLROnPlateau \n",
    "\n",
    "import warnings #경고 무시\n",
    "warnings.filterwarnings(\"ignore\")"
   ]
  },
  {
   "cell_type": "code",
   "execution_count": 2,
   "id": "16346760",
   "metadata": {},
   "outputs": [],
   "source": [
    "image_size=48"
   ]
  },
  {
   "cell_type": "code",
   "execution_count": 8,
   "id": "81db581c",
   "metadata": {},
   "outputs": [],
   "source": [
    "#서버용 그래픽 카드 지정\n",
    "import os\n",
    "os.environ[\"CUDA_VISIBLE_DEVICES\"]=\"2\""
   ]
  },
  {
   "cell_type": "code",
   "execution_count": 3,
   "id": "26f204f5",
   "metadata": {},
   "outputs": [
    {
     "name": "stdout",
     "output_type": "stream",
     "text": [
      "['neutral', 'fear', 'happy', 'sad', 'angry', 'surprise']\n"
     ]
    }
   ],
   "source": [
    "data=[]\n",
    "labels=[]\n",
    "random.seed(42)\n",
    "imagePaths = sorted(list(os.listdir(\"../jupyter/input/emotion-project-2/train/\")))\n",
    "random.shuffle(imagePaths)\n",
    "print(imagePaths)\n",
    "\n",
    "for img in imagePaths:\n",
    "    path=sorted(list(os.listdir(\"../jupyter/input/emotion-project-2/train/\"+img)))\n",
    "    for i in path:\n",
    "        image = cv2.imread(\"../jupyter/input/emotion-project-2/train/\"+img+'/'+i)\n",
    "        image = cv2.resize(image, (image_size,image_size))\n",
    "        image = img_to_array(image)\n",
    "        data.append(image)\n",
    "        l = label = img\n",
    "        labels.append(l)"
   ]
  },
  {
   "cell_type": "code",
   "execution_count": 4,
   "id": "5d918663",
   "metadata": {},
   "outputs": [
    {
     "name": "stdout",
     "output_type": "stream",
     "text": [
      "[0 0 0 1 0 0]\n"
     ]
    }
   ],
   "source": [
    "data = np.array(data, dtype=\"float32\") / 255.0\n",
    "labels = np.array(labels)\n",
    "mlb = LabelBinarizer()\n",
    "labels = mlb.fit_transform(labels)\n",
    "print(labels[0])"
   ]
  },
  {
   "cell_type": "code",
   "execution_count": 5,
   "id": "8a850fe1",
   "metadata": {},
   "outputs": [
    {
     "name": "stdout",
     "output_type": "stream",
     "text": [
      "(50890, 48, 48, 3) (12723, 48, 48, 3)\n"
     ]
    }
   ],
   "source": [
    "(xtrain,xtest,ytrain,ytest)=train_test_split(data,labels,test_size=0.2,random_state=42)\n",
    "print(xtrain.shape, xtest.shape)"
   ]
  },
  {
   "cell_type": "code",
   "execution_count": 6,
   "id": "a79604a7",
   "metadata": {},
   "outputs": [],
   "source": [
    "datagen = ImageDataGenerator(zoom_range = 0.2, horizontal_flip=True, shear_range=0.2) #이미지 가공(학습률 향상을 위한 augmentation)\n",
    "datagen.fit(xtrain)"
   ]
  },
  {
   "cell_type": "code",
   "execution_count": 7,
   "id": "3b74d0f4",
   "metadata": {},
   "outputs": [
    {
     "name": "stdout",
     "output_type": "stream",
     "text": [
      "Model: \"model\"\n",
      "_________________________________________________________________\n",
      "Layer (type)                 Output Shape              Param #   \n",
      "=================================================================\n",
      "input_1 (InputLayer)         [(None, 48, 48, 3)]       0         \n",
      "_________________________________________________________________\n",
      "block1_conv1 (Conv2D)        (None, 48, 48, 64)        1792      \n",
      "_________________________________________________________________\n",
      "block1_conv2 (Conv2D)        (None, 48, 48, 64)        36928     \n",
      "_________________________________________________________________\n",
      "block1_pool (MaxPooling2D)   (None, 24, 24, 64)        0         \n",
      "_________________________________________________________________\n",
      "block2_conv1 (Conv2D)        (None, 24, 24, 128)       73856     \n",
      "_________________________________________________________________\n",
      "block2_conv2 (Conv2D)        (None, 24, 24, 128)       147584    \n",
      "_________________________________________________________________\n",
      "block2_pool (MaxPooling2D)   (None, 12, 12, 128)       0         \n",
      "_________________________________________________________________\n",
      "block3_conv1 (Conv2D)        (None, 12, 12, 256)       295168    \n",
      "_________________________________________________________________\n",
      "block3_conv2 (Conv2D)        (None, 12, 12, 256)       590080    \n",
      "_________________________________________________________________\n",
      "block3_conv3 (Conv2D)        (None, 12, 12, 256)       590080    \n",
      "_________________________________________________________________\n",
      "block3_pool (MaxPooling2D)   (None, 6, 6, 256)         0         \n",
      "_________________________________________________________________\n",
      "block4_conv1 (Conv2D)        (None, 6, 6, 512)         1180160   \n",
      "_________________________________________________________________\n",
      "block4_conv2 (Conv2D)        (None, 6, 6, 512)         2359808   \n",
      "_________________________________________________________________\n",
      "block4_conv3 (Conv2D)        (None, 6, 6, 512)         2359808   \n",
      "_________________________________________________________________\n",
      "block4_pool (MaxPooling2D)   (None, 3, 3, 512)         0         \n",
      "_________________________________________________________________\n",
      "block5_conv1 (Conv2D)        (None, 3, 3, 512)         2359808   \n",
      "_________________________________________________________________\n",
      "block5_conv2 (Conv2D)        (None, 3, 3, 512)         2359808   \n",
      "_________________________________________________________________\n",
      "block5_conv3 (Conv2D)        (None, 3, 3, 512)         2359808   \n",
      "_________________________________________________________________\n",
      "block5_pool (MaxPooling2D)   (None, 1, 1, 512)         0         \n",
      "_________________________________________________________________\n",
      "flatten (Flatten)            (None, 512)               0         \n",
      "_________________________________________________________________\n",
      "dense (Dense)                (None, 512)               262656    \n",
      "_________________________________________________________________\n",
      "dropout (Dropout)            (None, 512)               0         \n",
      "_________________________________________________________________\n",
      "dense_1 (Dense)              (None, 6)                 3078      \n",
      "=================================================================\n",
      "Total params: 14,980,422\n",
      "Trainable params: 14,980,422\n",
      "Non-trainable params: 0\n",
      "_________________________________________________________________\n"
     ]
    }
   ],
   "source": [
    "from tensorflow.keras.optimizers import Adam\n",
    "\n",
    "model = VGG16(weights='imagenet', include_top=False, input_shape=(image_size, image_size, 3))\n",
    "x=Flatten()(model.output)\n",
    "x=Dense(512,activation='relu')(x)\n",
    "x=Dropout(0.2)(x)\n",
    "output=Dense(6,activation='softmax')(x) # because we have to predict the AUC\n",
    "model=Model(model.input,output)\n",
    "\n",
    "model.compile(\n",
    "    optimizer = Adam(lr=0.0001), \n",
    "    loss='categorical_crossentropy', \n",
    "    metrics=['accuracy']\n",
    "  )\n",
    "\n",
    "model.summary()"
   ]
  },
  {
   "cell_type": "code",
   "execution_count": 8,
   "id": "fc0fb722",
   "metadata": {},
   "outputs": [
    {
     "name": "stdout",
     "output_type": "stream",
     "text": [
      "Epoch 1/50\n",
      "1591/1591 [==============================] - 57s 34ms/step - loss: 1.4555 - accuracy: 0.4134 - val_loss: 1.0209 - val_accuracy: 0.6110\n",
      "Epoch 2/50\n",
      "1591/1591 [==============================] - 51s 32ms/step - loss: 1.0493 - accuracy: 0.5949 - val_loss: 0.9489 - val_accuracy: 0.6390\n",
      "Epoch 3/50\n",
      "1591/1591 [==============================] - 54s 34ms/step - loss: 0.9265 - accuracy: 0.6487 - val_loss: 0.9087 - val_accuracy: 0.6564\n",
      "Epoch 4/50\n",
      "1591/1591 [==============================] - 55s 34ms/step - loss: 0.8449 - accuracy: 0.6850 - val_loss: 0.8486 - val_accuracy: 0.6831\n",
      "Epoch 5/50\n",
      "1591/1591 [==============================] - 54s 34ms/step - loss: 0.7748 - accuracy: 0.7132 - val_loss: 0.8426 - val_accuracy: 0.6805\n",
      "Epoch 6/50\n",
      "1591/1591 [==============================] - 56s 35ms/step - loss: 0.7072 - accuracy: 0.7403 - val_loss: 0.7871 - val_accuracy: 0.7148\n",
      "Epoch 7/50\n",
      "1591/1591 [==============================] - 57s 36ms/step - loss: 0.6303 - accuracy: 0.7722 - val_loss: 0.7990 - val_accuracy: 0.7322\n",
      "Epoch 8/50\n",
      "1591/1591 [==============================] - 56s 35ms/step - loss: 0.5616 - accuracy: 0.7998 - val_loss: 0.7121 - val_accuracy: 0.7557\n",
      "Epoch 9/50\n",
      "1591/1591 [==============================] - 52s 33ms/step - loss: 0.4945 - accuracy: 0.8263 - val_loss: 0.6675 - val_accuracy: 0.7699\n",
      "Epoch 10/50\n",
      "1591/1591 [==============================] - 54s 34ms/step - loss: 0.4426 - accuracy: 0.8456 - val_loss: 0.6295 - val_accuracy: 0.7865\n",
      "Epoch 11/50\n",
      "1591/1591 [==============================] - 53s 33ms/step - loss: 0.3941 - accuracy: 0.8635 - val_loss: 0.6024 - val_accuracy: 0.8029\n",
      "Epoch 12/50\n",
      "1591/1591 [==============================] - 52s 33ms/step - loss: 0.3531 - accuracy: 0.8784 - val_loss: 0.6088 - val_accuracy: 0.8059\n",
      "Epoch 13/50\n",
      "1591/1591 [==============================] - 52s 33ms/step - loss: 0.3102 - accuracy: 0.8941 - val_loss: 0.6271 - val_accuracy: 0.8036\n",
      "Epoch 14/50\n",
      "1591/1591 [==============================] - 53s 33ms/step - loss: 0.2845 - accuracy: 0.9047 - val_loss: 0.5687 - val_accuracy: 0.8208\n",
      "Epoch 15/50\n",
      "1591/1591 [==============================] - 53s 33ms/step - loss: 0.2662 - accuracy: 0.9100 - val_loss: 0.5924 - val_accuracy: 0.8252\n",
      "Epoch 16/50\n",
      "1591/1591 [==============================] - 53s 33ms/step - loss: 0.2449 - accuracy: 0.9163 - val_loss: 0.5554 - val_accuracy: 0.8387\n",
      "Epoch 17/50\n",
      "1591/1591 [==============================] - 53s 33ms/step - loss: 0.2312 - accuracy: 0.9199 - val_loss: 0.5595 - val_accuracy: 0.8419\n",
      "Epoch 18/50\n",
      "1591/1591 [==============================] - 53s 33ms/step - loss: 0.2072 - accuracy: 0.9298 - val_loss: 0.5655 - val_accuracy: 0.8415\n",
      "Epoch 19/50\n",
      "1591/1591 [==============================] - 53s 34ms/step - loss: 0.1982 - accuracy: 0.9325 - val_loss: 0.5456 - val_accuracy: 0.8554\n",
      "Epoch 20/50\n",
      "1591/1591 [==============================] - 54s 34ms/step - loss: 0.1852 - accuracy: 0.9381 - val_loss: 0.5756 - val_accuracy: 0.8488\n",
      "Epoch 21/50\n",
      "1591/1591 [==============================] - 52s 32ms/step - loss: 0.1758 - accuracy: 0.9394 - val_loss: 0.5339 - val_accuracy: 0.8577\n",
      "Epoch 22/50\n",
      "1591/1591 [==============================] - 52s 33ms/step - loss: 0.1674 - accuracy: 0.9441 - val_loss: 0.5460 - val_accuracy: 0.8536\n",
      "Epoch 23/50\n",
      "1591/1591 [==============================] - 52s 32ms/step - loss: 0.1554 - accuracy: 0.9461 - val_loss: 0.5375 - val_accuracy: 0.8661\n",
      "Epoch 24/50\n",
      "1591/1591 [==============================] - 51s 32ms/step - loss: 0.1504 - accuracy: 0.9487 - val_loss: 0.5211 - val_accuracy: 0.8643\n",
      "Epoch 25/50\n",
      "1591/1591 [==============================] - 51s 32ms/step - loss: 0.1458 - accuracy: 0.9497 - val_loss: 0.5590 - val_accuracy: 0.8644\n",
      "Epoch 26/50\n",
      "1591/1591 [==============================] - 52s 32ms/step - loss: 0.1378 - accuracy: 0.9530 - val_loss: 0.5710 - val_accuracy: 0.8712\n",
      "Epoch 27/50\n",
      "1591/1591 [==============================] - 52s 32ms/step - loss: 0.1389 - accuracy: 0.9521 - val_loss: 0.5196 - val_accuracy: 0.8732\n",
      "Epoch 28/50\n",
      "1591/1591 [==============================] - 58s 36ms/step - loss: 0.1226 - accuracy: 0.9578 - val_loss: 0.5463 - val_accuracy: 0.8665\n",
      "Epoch 29/50\n",
      "1591/1591 [==============================] - 177s 111ms/step - loss: 0.1270 - accuracy: 0.9565 - val_loss: 0.5197 - val_accuracy: 0.8746\n",
      "Epoch 30/50\n",
      "1591/1591 [==============================] - 185s 116ms/step - loss: 0.1211 - accuracy: 0.9595 - val_loss: 0.5527 - val_accuracy: 0.8689\n",
      "Epoch 31/50\n",
      "1591/1591 [==============================] - 68s 43ms/step - loss: 0.1164 - accuracy: 0.9599 - val_loss: 0.5407 - val_accuracy: 0.8756\n",
      "Epoch 32/50\n",
      "1591/1591 [==============================] - 71s 45ms/step - loss: 0.1142 - accuracy: 0.9594 - val_loss: 0.5226 - val_accuracy: 0.8794\n",
      "Epoch 33/50\n",
      "1591/1591 [==============================] - 53s 33ms/step - loss: 0.1119 - accuracy: 0.9607 - val_loss: 0.5387 - val_accuracy: 0.8780\n",
      "Epoch 34/50\n",
      "1591/1591 [==============================] - 50s 32ms/step - loss: 0.1031 - accuracy: 0.9646 - val_loss: 0.5536 - val_accuracy: 0.8866\n",
      "Epoch 35/50\n",
      "1591/1591 [==============================] - 53s 33ms/step - loss: 0.1037 - accuracy: 0.9633 - val_loss: 0.5643 - val_accuracy: 0.8816\n",
      "Epoch 36/50\n",
      "1591/1591 [==============================] - 53s 34ms/step - loss: 0.0980 - accuracy: 0.9664 - val_loss: 0.5883 - val_accuracy: 0.8760\n",
      "Epoch 37/50\n",
      "1591/1591 [==============================] - 53s 33ms/step - loss: 0.0987 - accuracy: 0.9657 - val_loss: 0.5874 - val_accuracy: 0.8797\n",
      "Epoch 38/50\n",
      "1591/1591 [==============================] - 50s 32ms/step - loss: 0.1000 - accuracy: 0.9665 - val_loss: 0.6118 - val_accuracy: 0.8750\n",
      "Epoch 39/50\n",
      "1591/1591 [==============================] - 50s 31ms/step - loss: 0.0996 - accuracy: 0.9651 - val_loss: 0.5888 - val_accuracy: 0.8812\n",
      "Epoch 40/50\n",
      "1591/1591 [==============================] - 49s 31ms/step - loss: 0.0914 - accuracy: 0.9676 - val_loss: 0.6216 - val_accuracy: 0.8708\n",
      "Epoch 41/50\n",
      "1591/1591 [==============================] - 49s 31ms/step - loss: 0.0941 - accuracy: 0.9664 - val_loss: 0.6100 - val_accuracy: 0.8853\n",
      "Epoch 42/50\n",
      "1591/1591 [==============================] - 49s 31ms/step - loss: 0.0901 - accuracy: 0.9675 - val_loss: 0.6108 - val_accuracy: 0.8820\n",
      "Epoch 43/50\n",
      "1591/1591 [==============================] - 52s 32ms/step - loss: 0.0904 - accuracy: 0.9677 - val_loss: 0.6564 - val_accuracy: 0.8771\n",
      "Epoch 44/50\n",
      "1591/1591 [==============================] - 51s 32ms/step - loss: 0.0936 - accuracy: 0.9670 - val_loss: 0.6335 - val_accuracy: 0.8790\n",
      "Epoch 45/50\n",
      "1591/1591 [==============================] - 50s 32ms/step - loss: 0.0892 - accuracy: 0.9694 - val_loss: 0.6661 - val_accuracy: 0.8763\n",
      "Epoch 46/50\n",
      "1591/1591 [==============================] - 52s 32ms/step - loss: 0.0868 - accuracy: 0.9708 - val_loss: 0.6383 - val_accuracy: 0.8731\n",
      "Epoch 47/50\n",
      "1591/1591 [==============================] - 55s 34ms/step - loss: 0.0834 - accuracy: 0.9703 - val_loss: 0.6240 - val_accuracy: 0.8771\n",
      "Epoch 48/50\n",
      "1591/1591 [==============================] - 51s 32ms/step - loss: 0.0801 - accuracy: 0.9718 - val_loss: 0.6258 - val_accuracy: 0.8852\n",
      "Epoch 49/50\n",
      "1591/1591 [==============================] - 51s 32ms/step - loss: 0.0768 - accuracy: 0.9727 - val_loss: 0.5881 - val_accuracy: 0.8886\n",
      "Epoch 50/50\n",
      "1591/1591 [==============================] - 52s 33ms/step - loss: 0.0788 - accuracy: 0.9725 - val_loss: 0.5817 - val_accuracy: 0.8867\n"
     ]
    }
   ],
   "source": [
    "history = model.fit(datagen.flow(xtrain, ytrain, batch_size=32),\n",
    "               epochs=50,\n",
    "               validation_data=(xtest, ytest))"
   ]
  },
  {
   "cell_type": "code",
   "execution_count": 9,
   "id": "2dc1e83a",
   "metadata": {},
   "outputs": [
    {
     "name": "stdout",
     "output_type": "stream",
     "text": [
      "398/398 [==============================] - 4s 9ms/step - loss: 0.5817 - accuracy: 0.8867\n"
     ]
    },
    {
     "data": {
      "text/plain": [
       "[0.581672191619873, 0.8867405652999878]"
      ]
     },
     "execution_count": 9,
     "metadata": {},
     "output_type": "execute_result"
    }
   ],
   "source": [
    "model.evaluate(xtest, ytest, batch_size = 32)"
   ]
  },
  {
   "cell_type": "code",
   "execution_count": 10,
   "id": "5caced39",
   "metadata": {},
   "outputs": [
    {
     "name": "stdout",
     "output_type": "stream",
     "text": [
      "1591/1591 [==============================] - 15s 9ms/step - loss: 0.0512 - accuracy: 0.9820\n"
     ]
    },
    {
     "data": {
      "text/plain": [
       "[0.05116046592593193, 0.9819610714912415]"
      ]
     },
     "execution_count": 10,
     "metadata": {},
     "output_type": "execute_result"
    }
   ],
   "source": [
    "model.evaluate(xtrain, ytrain, batch_size = 32)"
   ]
  },
  {
   "cell_type": "code",
   "execution_count": 12,
   "id": "0ccbcb9d",
   "metadata": {},
   "outputs": [],
   "source": [
    "model.save('adam_0429_float32_48.h5')"
   ]
  },
  {
   "cell_type": "code",
   "execution_count": null,
   "id": "f37951d8",
   "metadata": {},
   "outputs": [],
   "source": []
  }
 ],
 "metadata": {
  "kernelspec": {
   "display_name": "Python 3",
   "language": "python",
   "name": "python3"
  },
  "language_info": {
   "codemirror_mode": {
    "name": "ipython",
    "version": 3
   },
   "file_extension": ".py",
   "mimetype": "text/x-python",
   "name": "python",
   "nbconvert_exporter": "python",
   "pygments_lexer": "ipython3",
   "version": "3.8.8"
  }
 },
 "nbformat": 4,
 "nbformat_minor": 5
}
