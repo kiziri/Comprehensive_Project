{
 "cells": [
  {
   "cell_type": "code",
   "execution_count": 1,
   "id": "43166ebf",
   "metadata": {},
   "outputs": [],
   "source": [
    "from tensorflow.python.keras.models import load_model\n",
    "import numpy as np\n",
    "from numpy import argmax\n",
    "import os\n",
    "import cv2 #이미지 읽기용"
   ]
  },
  {
   "cell_type": "code",
   "execution_count": null,
   "id": "40f53cdc",
   "metadata": {},
   "outputs": [],
   "source": [
    "model = load_model('.h5')"
   ]
  },
  {
   "cell_type": "code",
   "execution_count": 2,
   "id": "eabea6e5",
   "metadata": {},
   "outputs": [],
   "source": [
    "face_cascade = cv2.CascadeClassifier('haarcascade_frontalface_default.xml')\n",
    "list = [[0]*4]*100 # 1 x 4 배열을 100개 만듬\n",
    "count = 0"
   ]
  },
  {
   "cell_type": "code",
   "execution_count": null,
   "id": "f3c1dcdb",
   "metadata": {},
   "outputs": [],
   "source": [
    "img = cv2.imread('testimage.jpg')\n",
    "gray = cv2.cvtColor(img, cv2.COLOR_BGR2GRAY)\n",
    "faces = face_cascade.detectMultiScale(gray, 1.3,5)\n",
    "for (x,y,w,h) in faces: #좌표 값과 rectangular의 width height를 받게 된다.\n",
    "    # x,y값은 rectangular가 시작하는 지점의 좌표\n",
    "    # x, y값은 좌표값 w,h는 얼굴 높이 너비\n",
    "    # 원본 이미지에 얼굴의 위치를 표시하는 작업을 함.\n",
    "    # for문을 돌리는 이유는 여러 개가 검출 될 수 있기 때문.\n",
    "\n",
    "    list[count][0] = x\n",
    "    list[count][1] = y\n",
    "    list[count][2] = w\n",
    "    list[count][3] = h\n",
    "\n",
    "    print(list[count])\n",
    "    count = count + 1\n",
    "\n",
    "    cv2.rectangle(img, (x,y), (x+w, y+h), (255,0,0),2)\n",
    "    roi_gray = gray[y:y+h, x:x+w]\n",
    "    roi_color = img[y:y+h, x:x+w]"
   ]
  },
  {
   "cell_type": "code",
   "execution_count": null,
   "id": "2b6d99be",
   "metadata": {},
   "outputs": [],
   "source": [
    "cv2.imshow('Image view', img)"
   ]
  },
  {
   "cell_type": "code",
   "execution_count": null,
   "id": "46ac6d28",
   "metadata": {},
   "outputs": [],
   "source": [
    "#분석 준비\n",
    "image_size=32\n",
    "labels=['neutral', 'fear', 'happy', 'sad', 'angry', 'surprise']\n",
    "\n",
    "#데이터 전처리\n",
    "analy_image = cv2.imread(\"\") #이미지 읽기\n",
    "analy_image = cv2.resize(analy_image, (image_size,image_size)) #이미지 사이즈 편집\n",
    "analy_image = img_to_array(analy_image) #이미지 배열화\n",
    "analy_image = np.array(analy_image, dtype=\"float64\") / 255.0\n",
    "print(analy_image.shape, analy_image.shape)"
   ]
  },
  {
   "cell_type": "code",
   "execution_count": null,
   "id": "985dfe4f",
   "metadata": {},
   "outputs": [],
   "source": [
    "image_predict = model.predict(image)"
   ]
  },
  {
   "cell_type": "code",
   "execution_count": null,
   "id": "c34ee0bf",
   "metadata": {},
   "outputs": [],
   "source": [
    "label = labels[image_predict[0].argmax()]\n",
    "confidence = image_predict[0][image_predict[0].argmax()]\n",
    "print('{} {:.2f}%'.format(label, confidence * 100)) "
   ]
  },
  {
   "cell_type": "code",
   "execution_count": null,
   "id": "b7559b66",
   "metadata": {},
   "outputs": [],
   "source": []
  },
  {
   "cell_type": "code",
   "execution_count": null,
   "id": "35f09f3f",
   "metadata": {},
   "outputs": [],
   "source": []
  },
  {
   "cell_type": "code",
   "execution_count": null,
   "id": "fc664452",
   "metadata": {},
   "outputs": [],
   "source": []
  },
  {
   "cell_type": "code",
   "execution_count": null,
   "id": "bd0059cd",
   "metadata": {},
   "outputs": [],
   "source": []
  },
  {
   "cell_type": "code",
   "execution_count": null,
   "id": "7b9dea07",
   "metadata": {},
   "outputs": [],
   "source": []
  },
  {
   "cell_type": "code",
   "execution_count": null,
   "id": "96fe4591",
   "metadata": {},
   "outputs": [],
   "source": []
  },
  {
   "cell_type": "code",
   "execution_count": null,
   "id": "da94c303",
   "metadata": {},
   "outputs": [],
   "source": []
  }
 ],
 "metadata": {
  "kernelspec": {
   "display_name": "Python 3",
   "language": "python",
   "name": "python3"
  },
  "language_info": {
   "codemirror_mode": {
    "name": "ipython",
    "version": 3
   },
   "file_extension": ".py",
   "mimetype": "text/x-python",
   "name": "python",
   "nbconvert_exporter": "python",
   "pygments_lexer": "ipython3",
   "version": "3.8.8"
  }
 },
 "nbformat": 4,
 "nbformat_minor": 5
}
