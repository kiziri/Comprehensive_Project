{
 "cells": [
  {
   "cell_type": "code",
   "execution_count": 1,
   "id": "43166ebf",
   "metadata": {},
   "outputs": [],
   "source": [
    "from tensorflow.python.keras.models import load_model\n",
    "from tensorflow.keras.preprocessing.image import ImageDataGenerator,img_to_array\n",
    "from sklearn.preprocessing import LabelBinarizer #데이터 전처리용\n",
    "import numpy as np\n",
    "from numpy import argmax\n",
    "import os\n",
    "import cv2 #이미지 읽기용\n",
    "import matplotlib.pyplot as plt\n",
    "from numpy import exp #Softmax출력용 "
   ]
  },
  {
   "cell_type": "code",
   "execution_count": 10,
   "id": "a6c305b3",
   "metadata": {},
   "outputs": [],
   "source": [
    "#얼굴 인식 라이브러리(파일) 삽입\n",
    "face_cascade = cv2.CascadeClassifier('haarcascade_frontalface_default.xml')\n",
    "face_coordinate = [[0]*4]*100 # 1 x 4 배열을 100개 만듬"
   ]
  },
  {
   "cell_type": "code",
   "execution_count": 11,
   "id": "180e2ebe",
   "metadata": {},
   "outputs": [
    {
     "name": "stdout",
     "output_type": "stream",
     "text": [
      "[425, 75, 174, 174]\n",
      "[728, 187, 143, 143]\n"
     ]
    }
   ],
   "source": [
    "    img = cv2.imread('Faces.jpg')\n",
    "    gray = cv2.cvtColor(img, cv2.COLOR_BGR2GRAY)\n",
    "    faces = face_cascade.detectMultiScale(gray, 1.3,5)\n",
    "    count = 0 #반복 실행 시 덮어쓰도록 여기에 선언\n",
    "\n",
    "    for (x,y,w,h) in faces: #좌표 값과 rectangular의 width height를 받게 된다.\n",
    "        # x,y값은 rectangular가 시작하는 지점의 좌표\n",
    "        # x, y값은 좌표값 w,h는 얼굴 높이 너비\n",
    "        # 원본 이미지에 얼굴의 위치를 표시하는 작업을 함.\n",
    "        # for문을 돌리는 이유는 여러 개가 검출 될 수 있기 때문.\n",
    "\n",
    "        face_coordinate[count][0] = x\n",
    "        face_coordinate[count][1] = y\n",
    "        face_coordinate[count][2] = w\n",
    "        face_coordinate[count][3] = h\n",
    "        print(face_coordinate[count])\n",
    "        #image 좌표값대로 잘라서 따로 저장하는 부분\n",
    "        img_trim = img[y:y + h,x:x + w]  # trim한 결과를 img_trim에 담는다\n",
    "        cv2.imwrite('target_{}.jpg'.format(count),img_trim) #각 카운터에 맞는 이름으로 저장\n",
    "\n",
    "        count = count + 1\n",
    "\n",
    "        cv2.rectangle(img, (x,y), (x+w, y+h), (255,0,0),2) #얼굴에 사각형 프레임 씌우기\n",
    "        roi_gray = gray[y:y+h, x:x+w]\n",
    "        roi_color = img[y:y+h, x:x+w]"
   ]
  },
  {
   "cell_type": "code",
   "execution_count": 12,
   "id": "780da144",
   "metadata": {},
   "outputs": [
    {
     "data": {
      "text/plain": [
       "(853, 1280, 3)"
      ]
     },
     "execution_count": 12,
     "metadata": {},
     "output_type": "execute_result"
    }
   ],
   "source": [
    "img.shape"
   ]
  },
  {
   "cell_type": "code",
   "execution_count": 13,
   "id": "7a9353d9",
   "metadata": {
    "scrolled": true
   },
   "outputs": [
    {
     "data": {
      "text/plain": [
       "-1"
      ]
     },
     "execution_count": 13,
     "metadata": {},
     "output_type": "execute_result"
    }
   ],
   "source": [
    "cv2.imshow('image',img)\n",
    "cv2.waitKey() #별도의 창으로 이미지 출력"
   ]
  },
  {
   "cell_type": "code",
   "execution_count": 6,
   "id": "46ac6d28",
   "metadata": {},
   "outputs": [
    {
     "name": "stdout",
     "output_type": "stream",
     "text": [
      "(48, 48, 3)\n",
      "(48, 48, 3)\n"
     ]
    }
   ],
   "source": [
    "#분석 준비\n",
    "image_size=48\n",
    "labels=['neutral', 'fear', 'happy', 'sad', 'angry', 'surprise']\n",
    "analy_image=[]\n",
    "img_count = 0\n",
    "\n",
    "#데이터 전처리\n",
    "for index in faces:\n",
    "    image = cv2.imread(\"target_{}.jpg\".format(img_count)) #이미지 읽기\n",
    "    image = cv2.resize(image, (image_size,image_size)) #이미지 사이즈 편집\n",
    "    image = img_to_array(image) #이미지 배열화\n",
    "    print(image.shape)\n",
    "    analy_image.append(image)\n",
    "    img_count += 1"
   ]
  },
  {
   "cell_type": "code",
   "execution_count": 7,
   "id": "6e23eb47",
   "metadata": {},
   "outputs": [],
   "source": [
    "analy_image = np.array(analy_image, dtype=\"float32\") / 255.0\n",
    "labels = np.array(labels)\n",
    "mlb = LabelBinarizer()\n",
    "labels = mlb.fit_transform(labels)"
   ]
  },
  {
   "cell_type": "code",
   "execution_count": 10,
   "id": "c312007c",
   "metadata": {},
   "outputs": [],
   "source": [
    "model = load_model('VGG16_Complete.h5')"
   ]
  },
  {
   "cell_type": "code",
   "execution_count": 11,
   "id": "985dfe4f",
   "metadata": {},
   "outputs": [
    {
     "ename": "UnknownError",
     "evalue": " Failed to get convolution algorithm. This is probably because cuDNN failed to initialize, so try looking to see if a warning log message was printed above.\n\t [[node functional_1/block1_conv1/Relu (defined at <ipython-input-11-1372890b2063>:1) ]] [Op:__inference_predict_function_1107]\n\nFunction call stack:\npredict_function\n",
     "output_type": "error",
     "traceback": [
      "\u001b[1;31m---------------------------------------------------------------------------\u001b[0m",
      "\u001b[1;31mUnknownError\u001b[0m                              Traceback (most recent call last)",
      "\u001b[1;32m<ipython-input-11-1372890b2063>\u001b[0m in \u001b[0;36m<module>\u001b[1;34m\u001b[0m\n\u001b[1;32m----> 1\u001b[1;33m \u001b[0mimage_predict\u001b[0m \u001b[1;33m=\u001b[0m \u001b[0mmodel\u001b[0m\u001b[1;33m.\u001b[0m\u001b[0mpredict\u001b[0m\u001b[1;33m(\u001b[0m\u001b[0manaly_image\u001b[0m\u001b[1;33m)\u001b[0m \u001b[1;31m#사진 분석\u001b[0m\u001b[1;33m\u001b[0m\u001b[1;33m\u001b[0m\u001b[0m\n\u001b[0m",
      "\u001b[1;32m~\\anaconda3\\lib\\site-packages\\tensorflow\\python\\keras\\engine\\training.py\u001b[0m in \u001b[0;36mpredict\u001b[1;34m(self, x, batch_size, verbose, steps, callbacks, max_queue_size, workers, use_multiprocessing)\u001b[0m\n\u001b[0;32m   1627\u001b[0m           \u001b[1;32mfor\u001b[0m \u001b[0mstep\u001b[0m \u001b[1;32min\u001b[0m \u001b[0mdata_handler\u001b[0m\u001b[1;33m.\u001b[0m\u001b[0msteps\u001b[0m\u001b[1;33m(\u001b[0m\u001b[1;33m)\u001b[0m\u001b[1;33m:\u001b[0m\u001b[1;33m\u001b[0m\u001b[1;33m\u001b[0m\u001b[0m\n\u001b[0;32m   1628\u001b[0m             \u001b[0mcallbacks\u001b[0m\u001b[1;33m.\u001b[0m\u001b[0mon_predict_batch_begin\u001b[0m\u001b[1;33m(\u001b[0m\u001b[0mstep\u001b[0m\u001b[1;33m)\u001b[0m\u001b[1;33m\u001b[0m\u001b[1;33m\u001b[0m\u001b[0m\n\u001b[1;32m-> 1629\u001b[1;33m             \u001b[0mtmp_batch_outputs\u001b[0m \u001b[1;33m=\u001b[0m \u001b[0mself\u001b[0m\u001b[1;33m.\u001b[0m\u001b[0mpredict_function\u001b[0m\u001b[1;33m(\u001b[0m\u001b[0miterator\u001b[0m\u001b[1;33m)\u001b[0m\u001b[1;33m\u001b[0m\u001b[1;33m\u001b[0m\u001b[0m\n\u001b[0m\u001b[0;32m   1630\u001b[0m             \u001b[1;32mif\u001b[0m \u001b[0mdata_handler\u001b[0m\u001b[1;33m.\u001b[0m\u001b[0mshould_sync\u001b[0m\u001b[1;33m:\u001b[0m\u001b[1;33m\u001b[0m\u001b[1;33m\u001b[0m\u001b[0m\n\u001b[0;32m   1631\u001b[0m               \u001b[0mcontext\u001b[0m\u001b[1;33m.\u001b[0m\u001b[0masync_wait\u001b[0m\u001b[1;33m(\u001b[0m\u001b[1;33m)\u001b[0m\u001b[1;33m\u001b[0m\u001b[1;33m\u001b[0m\u001b[0m\n",
      "\u001b[1;32m~\\anaconda3\\lib\\site-packages\\tensorflow\\python\\eager\\def_function.py\u001b[0m in \u001b[0;36m__call__\u001b[1;34m(self, *args, **kwds)\u001b[0m\n\u001b[0;32m    826\u001b[0m     \u001b[0mtracing_count\u001b[0m \u001b[1;33m=\u001b[0m \u001b[0mself\u001b[0m\u001b[1;33m.\u001b[0m\u001b[0mexperimental_get_tracing_count\u001b[0m\u001b[1;33m(\u001b[0m\u001b[1;33m)\u001b[0m\u001b[1;33m\u001b[0m\u001b[1;33m\u001b[0m\u001b[0m\n\u001b[0;32m    827\u001b[0m     \u001b[1;32mwith\u001b[0m \u001b[0mtrace\u001b[0m\u001b[1;33m.\u001b[0m\u001b[0mTrace\u001b[0m\u001b[1;33m(\u001b[0m\u001b[0mself\u001b[0m\u001b[1;33m.\u001b[0m\u001b[0m_name\u001b[0m\u001b[1;33m)\u001b[0m \u001b[1;32mas\u001b[0m \u001b[0mtm\u001b[0m\u001b[1;33m:\u001b[0m\u001b[1;33m\u001b[0m\u001b[1;33m\u001b[0m\u001b[0m\n\u001b[1;32m--> 828\u001b[1;33m       \u001b[0mresult\u001b[0m \u001b[1;33m=\u001b[0m \u001b[0mself\u001b[0m\u001b[1;33m.\u001b[0m\u001b[0m_call\u001b[0m\u001b[1;33m(\u001b[0m\u001b[1;33m*\u001b[0m\u001b[0margs\u001b[0m\u001b[1;33m,\u001b[0m \u001b[1;33m**\u001b[0m\u001b[0mkwds\u001b[0m\u001b[1;33m)\u001b[0m\u001b[1;33m\u001b[0m\u001b[1;33m\u001b[0m\u001b[0m\n\u001b[0m\u001b[0;32m    829\u001b[0m       \u001b[0mcompiler\u001b[0m \u001b[1;33m=\u001b[0m \u001b[1;34m\"xla\"\u001b[0m \u001b[1;32mif\u001b[0m \u001b[0mself\u001b[0m\u001b[1;33m.\u001b[0m\u001b[0m_experimental_compile\u001b[0m \u001b[1;32melse\u001b[0m \u001b[1;34m\"nonXla\"\u001b[0m\u001b[1;33m\u001b[0m\u001b[1;33m\u001b[0m\u001b[0m\n\u001b[0;32m    830\u001b[0m       \u001b[0mnew_tracing_count\u001b[0m \u001b[1;33m=\u001b[0m \u001b[0mself\u001b[0m\u001b[1;33m.\u001b[0m\u001b[0mexperimental_get_tracing_count\u001b[0m\u001b[1;33m(\u001b[0m\u001b[1;33m)\u001b[0m\u001b[1;33m\u001b[0m\u001b[1;33m\u001b[0m\u001b[0m\n",
      "\u001b[1;32m~\\anaconda3\\lib\\site-packages\\tensorflow\\python\\eager\\def_function.py\u001b[0m in \u001b[0;36m_call\u001b[1;34m(self, *args, **kwds)\u001b[0m\n\u001b[0;32m    892\u001b[0m               *args, **kwds)\n\u001b[0;32m    893\u001b[0m       \u001b[1;31m# If we did not create any variables the trace we have is good enough.\u001b[0m\u001b[1;33m\u001b[0m\u001b[1;33m\u001b[0m\u001b[1;33m\u001b[0m\u001b[0m\n\u001b[1;32m--> 894\u001b[1;33m       return self._concrete_stateful_fn._call_flat(\n\u001b[0m\u001b[0;32m    895\u001b[0m           filtered_flat_args, self._concrete_stateful_fn.captured_inputs)  # pylint: disable=protected-access\n\u001b[0;32m    896\u001b[0m \u001b[1;33m\u001b[0m\u001b[0m\n",
      "\u001b[1;32m~\\anaconda3\\lib\\site-packages\\tensorflow\\python\\eager\\function.py\u001b[0m in \u001b[0;36m_call_flat\u001b[1;34m(self, args, captured_inputs, cancellation_manager)\u001b[0m\n\u001b[0;32m   1916\u001b[0m         and executing_eagerly):\n\u001b[0;32m   1917\u001b[0m       \u001b[1;31m# No tape is watching; skip to running the function.\u001b[0m\u001b[1;33m\u001b[0m\u001b[1;33m\u001b[0m\u001b[1;33m\u001b[0m\u001b[0m\n\u001b[1;32m-> 1918\u001b[1;33m       return self._build_call_outputs(self._inference_function.call(\n\u001b[0m\u001b[0;32m   1919\u001b[0m           ctx, args, cancellation_manager=cancellation_manager))\n\u001b[0;32m   1920\u001b[0m     forward_backward = self._select_forward_and_backward_functions(\n",
      "\u001b[1;32m~\\anaconda3\\lib\\site-packages\\tensorflow\\python\\eager\\function.py\u001b[0m in \u001b[0;36mcall\u001b[1;34m(self, ctx, args, cancellation_manager)\u001b[0m\n\u001b[0;32m    553\u001b[0m       \u001b[1;32mwith\u001b[0m \u001b[0m_InterpolateFunctionError\u001b[0m\u001b[1;33m(\u001b[0m\u001b[0mself\u001b[0m\u001b[1;33m)\u001b[0m\u001b[1;33m:\u001b[0m\u001b[1;33m\u001b[0m\u001b[1;33m\u001b[0m\u001b[0m\n\u001b[0;32m    554\u001b[0m         \u001b[1;32mif\u001b[0m \u001b[0mcancellation_manager\u001b[0m \u001b[1;32mis\u001b[0m \u001b[1;32mNone\u001b[0m\u001b[1;33m:\u001b[0m\u001b[1;33m\u001b[0m\u001b[1;33m\u001b[0m\u001b[0m\n\u001b[1;32m--> 555\u001b[1;33m           outputs = execute.execute(\n\u001b[0m\u001b[0;32m    556\u001b[0m               \u001b[0mstr\u001b[0m\u001b[1;33m(\u001b[0m\u001b[0mself\u001b[0m\u001b[1;33m.\u001b[0m\u001b[0msignature\u001b[0m\u001b[1;33m.\u001b[0m\u001b[0mname\u001b[0m\u001b[1;33m)\u001b[0m\u001b[1;33m,\u001b[0m\u001b[1;33m\u001b[0m\u001b[1;33m\u001b[0m\u001b[0m\n\u001b[0;32m    557\u001b[0m               \u001b[0mnum_outputs\u001b[0m\u001b[1;33m=\u001b[0m\u001b[0mself\u001b[0m\u001b[1;33m.\u001b[0m\u001b[0m_num_outputs\u001b[0m\u001b[1;33m,\u001b[0m\u001b[1;33m\u001b[0m\u001b[1;33m\u001b[0m\u001b[0m\n",
      "\u001b[1;32m~\\anaconda3\\lib\\site-packages\\tensorflow\\python\\eager\\execute.py\u001b[0m in \u001b[0;36mquick_execute\u001b[1;34m(op_name, num_outputs, inputs, attrs, ctx, name)\u001b[0m\n\u001b[0;32m     57\u001b[0m   \u001b[1;32mtry\u001b[0m\u001b[1;33m:\u001b[0m\u001b[1;33m\u001b[0m\u001b[1;33m\u001b[0m\u001b[0m\n\u001b[0;32m     58\u001b[0m     \u001b[0mctx\u001b[0m\u001b[1;33m.\u001b[0m\u001b[0mensure_initialized\u001b[0m\u001b[1;33m(\u001b[0m\u001b[1;33m)\u001b[0m\u001b[1;33m\u001b[0m\u001b[1;33m\u001b[0m\u001b[0m\n\u001b[1;32m---> 59\u001b[1;33m     tensors = pywrap_tfe.TFE_Py_Execute(ctx._handle, device_name, op_name,\n\u001b[0m\u001b[0;32m     60\u001b[0m                                         inputs, attrs, num_outputs)\n\u001b[0;32m     61\u001b[0m   \u001b[1;32mexcept\u001b[0m \u001b[0mcore\u001b[0m\u001b[1;33m.\u001b[0m\u001b[0m_NotOkStatusException\u001b[0m \u001b[1;32mas\u001b[0m \u001b[0me\u001b[0m\u001b[1;33m:\u001b[0m\u001b[1;33m\u001b[0m\u001b[1;33m\u001b[0m\u001b[0m\n",
      "\u001b[1;31mUnknownError\u001b[0m:  Failed to get convolution algorithm. This is probably because cuDNN failed to initialize, so try looking to see if a warning log message was printed above.\n\t [[node functional_1/block1_conv1/Relu (defined at <ipython-input-11-1372890b2063>:1) ]] [Op:__inference_predict_function_1107]\n\nFunction call stack:\npredict_function\n"
     ]
    }
   ],
   "source": [
    "image_predict = model.predict(analy_image) #사진 분석(개수 상관없음)"
   ]
  },
  {
   "cell_type": "code",
   "execution_count": null,
   "id": "0b93e75b",
   "metadata": {},
   "outputs": [],
   "source": [
    "print(image_predict) #분석한 결과 출력(Softmax로 정규화 된 값)\n",
    "print_count = 0\n",
    "result = [[0]*6]*100 # 1 x 6 배열을 100개 만듬\n",
    "result_count = 0\n",
    "for print_c in faces:\n",
    "    neutral = image_predict[print_count][0]*100\n",
    "    fear = image_predict[print_count][1]*100\n",
    "    happy = image_predict[print_count][2]*100\n",
    "    sad = image_predict[print_count][3]*100\n",
    "    angry = image_predict[print_count][4]*100\n",
    "    surprise = image_predict[print_count][5]*100\n",
    "    result[result_count][0] = neutral\n",
    "    result[result_count][1] = fear\n",
    "    result[result_count][2] = happy\n",
    "    result[result_count][3] = sad\n",
    "    result[result_count][4] = angry\n",
    "    result[result_count][5] = surprise\n",
    "    result_count += 1\n",
    "    print(\"{}번째 사진 \\n neutral:{:.1f}\\n fear:{:.1f}\\n happy:{:.1f}\\n sad:{:.1f}\\n angry:{:.1f}\\n surprise:{:.1f}\\n\\n\".format(print_count+1,\n",
    "                                                                                                                           neutral, fear,\n",
    "                                                                                                                           happy, sad,\n",
    "                                                                                                                           angry, surprise))\n",
    "    print_count += 1\n",
    "print_count = 0"
   ]
  },
  {
   "cell_type": "code",
   "execution_count": null,
   "id": "c34ee0bf",
   "metadata": {},
   "outputs": [],
   "source": [
    "#결과 출력\n",
    "label = labels[image_predict[0].argmax()]\n",
    "confidence = image_predict[0][image_predict[0].argmax()]\n",
    "print('{} {:.2f}%'.format(label, confidence * 100)) "
   ]
  },
  {
   "cell_type": "markdown",
   "id": "edc0d976",
   "metadata": {},
   "source": [
    "# 사진 범위와 분석 결과 전달"
   ]
  },
  {
   "cell_type": "code",
   "execution_count": null,
   "id": "35f09f3f",
   "metadata": {},
   "outputs": [],
   "source": [
    "import json\n",
    "\n",
    "save_face_path = \"facexy.json\"\n",
    "save_result_path = \"result.json\"\n",
    "\n",
    "with open(save_face_path, 'w') as outfile:\n",
    "    json.dump(face_coordinate, outfile)\n",
    "    \n",
    "with open(save_result_path, 'w') as outfile:\n",
    "    json.dump(result, outfile)\n",
    "\n",
    "#얼굴 범위\n",
    "#face_coordinate[][]\n",
    "\n",
    "#분석 결과\n",
    "#result[][]"
   ]
  },
  {
   "cell_type": "code",
   "execution_count": null,
   "id": "2f6410f5",
   "metadata": {},
   "outputs": [],
   "source": [
    "#얼굴 범위와 분석 결과 확인\n",
    "#print(face_coordinate)\n",
    "#print(result)"
   ]
  },
  {
   "cell_type": "code",
   "execution_count": null,
   "id": "fc664452",
   "metadata": {},
   "outputs": [],
   "source": []
  }
 ],
 "metadata": {
  "kernelspec": {
   "display_name": "Python 3",
   "language": "python",
   "name": "python3"
  },
  "language_info": {
   "codemirror_mode": {
    "name": "ipython",
    "version": 3
   },
   "file_extension": ".py",
   "mimetype": "text/x-python",
   "name": "python",
   "nbconvert_exporter": "python",
   "pygments_lexer": "ipython3",
   "version": "3.8.8"
  }
 },
 "nbformat": 4,
 "nbformat_minor": 5
}
